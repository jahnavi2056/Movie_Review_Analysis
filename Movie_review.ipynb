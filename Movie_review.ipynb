{
  "cells": [
    {
      "cell_type": "code",
      "execution_count": null,
      "metadata": {
        "colab": {
          "base_uri": "https://localhost:8080/"
        },
        "id": "lIYdn1woOS1n",
        "outputId": "d88365f0-6be7-4d0c-a304-f5bae3039780"
      },
      "outputs": [
        {
          "output_type": "stream",
          "name": "stdout",
          "text": [
            "--2025-07-26 09:14:57--  https://ai.stanford.edu/~amaas/data/sentiment/aclImdb_v1.tar.gz\n",
            "Resolving ai.stanford.edu (ai.stanford.edu)... 171.64.68.10\n",
            "Connecting to ai.stanford.edu (ai.stanford.edu)|171.64.68.10|:443... connected.\n",
            "HTTP request sent, awaiting response... 200 OK\n",
            "Length: 84125825 (80M) [application/x-gzip]\n",
            "Saving to: ‘aclImdb_v1.tar.gz.1’\n",
            "\n",
            "aclImdb_v1.tar.gz.1 100%[===================>]  80.23M  1.89MB/s    in 31s     \n",
            "\n",
            "2025-07-26 09:15:28 (2.62 MB/s) - ‘aclImdb_v1.tar.gz.1’ saved [84125825/84125825]\n",
            "\n",
            "Test Accuracy: 0.8175\n",
            "Positive\n",
            "Positive\n"
          ]
        }
      ],
      "source": [
        "# Step 1: Download and extract IMDb dataset\n",
        "!wget https://ai.stanford.edu/~amaas/data/sentiment/aclImdb_v1.tar.gz\n",
        "!tar -xzf aclImdb_v1.tar.gz\n",
        "\n",
        "# Step 2: Import libraries\n",
        "import os\n",
        "import pandas as pd\n",
        "from sklearn.feature_extraction.text import TfidfVectorizer\n",
        "from sklearn.linear_model import LogisticRegression\n",
        "from sklearn.model_selection import train_test_split\n",
        "\n",
        "# Step 3: Load dataset (train set only)\n",
        "def load_data(folder):\n",
        "    reviews = []\n",
        "    labels = []\n",
        "    for label in ['pos', 'neg']:\n",
        "        path = os.path.join(folder, label)\n",
        "        for file in os.listdir(path)[:1000]:  # Load only 1000 positive & 1000 negative for speed\n",
        "            with open(os.path.join(path, file), encoding='utf-8') as f:\n",
        "                reviews.append(f.read())\n",
        "                labels.append(1 if label == 'pos' else 0)\n",
        "    return pd.DataFrame({'review': reviews, 'sentiment': labels})\n",
        "\n",
        "data = load_data('aclImdb/train')\n",
        "\n",
        "# Step 4: Split and vectorize\n",
        "X_train, X_test, y_train, y_test = train_test_split(\n",
        "    data['review'], data['sentiment'], test_size=0.2, random_state=42)\n",
        "\n",
        "vectorizer = TfidfVectorizer(stop_words='english', max_features=5000)\n",
        "X_train_vec = vectorizer.fit_transform(X_train)\n",
        "X_test_vec = vectorizer.transform(X_test)\n",
        "\n",
        "# Step 5: Train model\n",
        "model = LogisticRegression()\n",
        "model.fit(X_train_vec, y_train)\n",
        "\n",
        "# Step 6: Predict\n",
        "print(\"Test Accuracy:\", model.score(X_test_vec, y_test))\n",
        "\n",
        "# Step 7: Try your own review\n",
        "def predict(review):\n",
        "    vec = vectorizer.transform([review])\n",
        "    pred = model.predict(vec)[0]\n",
        "    return \"Positive\" if pred == 1 else \"Negative\"\n",
        "\n",
        "print(predict(\"The movie was so exciting\"))\n",
        "print(predict(\"I loved the story and the acting was amazing!\"))\n"
      ]
    }
  ],
  "metadata": {
    "colab": {
      "provenance": []
    },
    "kernelspec": {
      "display_name": "Python 3",
      "name": "python3"
    }
  },
  "nbformat": 4,
  "nbformat_minor": 0
}